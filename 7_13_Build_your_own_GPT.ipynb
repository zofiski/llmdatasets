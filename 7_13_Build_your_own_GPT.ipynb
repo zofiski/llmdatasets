{
  "nbformat": 4,
  "nbformat_minor": 0,
  "metadata": {
    "colab": {
      "provenance": [],
      "authorship_tag": "ABX9TyP2GKe+6iQ9dw8Lr0irc0vF",
      "include_colab_link": true
    },
    "kernelspec": {
      "name": "python3",
      "display_name": "Python 3"
    },
    "language_info": {
      "name": "python"
    }
  },
  "cells": [
    {
      "cell_type": "markdown",
      "metadata": {
        "id": "view-in-github",
        "colab_type": "text"
      },
      "source": [
        "<a href=\"https://colab.research.google.com/github/zofiski/llmdatasets/blob/main/7_13_Build_your_own_GPT.ipynb\" target=\"_parent\"><img src=\"https://colab.research.google.com/assets/colab-badge.svg\" alt=\"Open In Colab\"/></a>"
      ]
    },
    {
      "cell_type": "code",
      "source": [
        "#https://www.youtube.com/watch?v=TSqkKH4zuZY code tutorial"
      ],
      "metadata": {
        "id": "83tg_AZLhKKc"
      },
      "execution_count": null,
      "outputs": []
    },
    {
      "cell_type": "code",
      "source": [
        "!pip install transformers"
      ],
      "metadata": {
        "id": "hiU0yFG8Tn_9"
      },
      "execution_count": null,
      "outputs": []
    },
    {
      "cell_type": "code",
      "execution_count": 2,
      "metadata": {
        "id": "7rvphl_7TfMF"
      },
      "outputs": [],
      "source": [
        "from transformers import GPT2LMHeadModel, GPT2Tokenizer, GPT2Config, TrainingArguments, Trainer"
      ]
    },
    {
      "cell_type": "code",
      "source": [
        "from transformers import AdamW, get_cosine_with_hard_restarts_schedule_with_warmup"
      ],
      "metadata": {
        "id": "W_5YLbx6T_sO"
      },
      "execution_count": 3,
      "outputs": []
    },
    {
      "cell_type": "code",
      "source": [
        "import accelerate"
      ],
      "metadata": {
        "id": "-STKuNyQayys"
      },
      "execution_count": 4,
      "outputs": []
    },
    {
      "cell_type": "code",
      "source": [
        "import transformers"
      ],
      "metadata": {
        "id": "ZVUIwl3cbFMo"
      },
      "execution_count": 5,
      "outputs": []
    },
    {
      "cell_type": "code",
      "source": [
        "transformers.__version__ #, accelerate.__version__"
      ],
      "metadata": {
        "id": "MUxie0Bqa2mn",
        "colab": {
          "base_uri": "https://localhost:8080/",
          "height": 35
        },
        "outputId": "37c6163e-0d4c-4159-ba1b-b686a45d7cef"
      },
      "execution_count": 6,
      "outputs": [
        {
          "output_type": "execute_result",
          "data": {
            "text/plain": [
              "'4.30.2'"
            ],
            "application/vnd.google.colaboratory.intrinsic+json": {
              "type": "string"
            }
          },
          "metadata": {},
          "execution_count": 6
        }
      ]
    },
    {
      "cell_type": "code",
      "source": [
        "!pip install datasets\n",
        "from datasets import load_dataset"
      ],
      "metadata": {
        "id": "iPLTcI_RXoZL"
      },
      "execution_count": null,
      "outputs": []
    },
    {
      "cell_type": "code",
      "source": [
        "config = GPT2Config(\n",
        "    vocab_size= 131072,\n",
        "    n_positions=1024,\n",
        "    n_ctx=1024,\n",
        "    n_embd=7680,\n",
        "    n_layer=70,\n",
        "    n_head=40,\n",
        "    use_cache=True\n",
        ")"
      ],
      "metadata": {
        "id": "XUY4TSTcUGiN"
      },
      "execution_count": 8,
      "outputs": []
    },
    {
      "cell_type": "code",
      "source": [
        "from transformers import GPT2Config, GPT2Model #Inserted here\n",
        "configuration = GPT2Config()\n",
        "model = GPT2Model(configuration)\n",
        "configuration = model.config\n"
      ],
      "metadata": {
        "id": "A0hFBPjxeG3F"
      },
      "execution_count": 9,
      "outputs": []
    },
    {
      "cell_type": "code",
      "source": [
        "tokenizer= GPT2Tokenizer.from_pretrained('gpt2', vocab_size=config.vocab_size)"
      ],
      "metadata": {
        "id": "JZ04Lav2U25n"
      },
      "execution_count": 10,
      "outputs": []
    },
    {
      "cell_type": "code",
      "source": [
        "tokenizer.pad_token = tokenizer.eos_token"
      ],
      "metadata": {
        "id": "NWt2fKf5VREl"
      },
      "execution_count": 11,
      "outputs": []
    },
    {
      "cell_type": "code",
      "source": [
        "!wget https://raw.githubusercontent.com/karpathy/char-rnn/master/data/tinyshakespeare/input.txt"
      ],
      "metadata": {
        "id": "ROWkR4EUWX2l"
      },
      "execution_count": null,
      "outputs": []
    },
    {
      "cell_type": "code",
      "source": [
        "from google.colab import files\n",
        "uploaded = files.upload()\n",
        "\n",
        "dataset = load_dataset('text', data_files='text.txt')"
      ],
      "metadata": {
        "id": "y4jB79reWyMO"
      },
      "execution_count": null,
      "outputs": []
    },
    {
      "cell_type": "code",
      "source": [
        "#print(dataset['train'][0])"
      ],
      "metadata": {
        "id": "f8f80HAIuQyG"
      },
      "execution_count": null,
      "outputs": []
    },
    {
      "cell_type": "code",
      "source": [
        "tokenized_dataset = dataset.map(lambda e: tokenizer(e['text'], truncation=True, padding='max_length'))"
      ],
      "metadata": {
        "id": "OVtyartoVVNz",
        "colab": {
          "base_uri": "https://localhost:8080/"
        },
        "outputId": "e6652ef0-a5fa-480a-d4f3-21e60b0fc036"
      },
      "execution_count": 14,
      "outputs": [
        {
          "output_type": "stream",
          "name": "stderr",
          "text": [
            "WARNING:datasets.arrow_dataset:Loading cached processed dataset at /root/.cache/huggingface/datasets/text/default-bb7dc399605d5e3e/0.0.0/cb1e9bd71a82ad27976be3b12b407850fe2837d80c22c5e03a28949843a8ace2/cache-7c77dd160830fed1.arrow\n"
          ]
        }
      ]
    },
    {
      "cell_type": "code",
      "source": [
        "#print(tokenized_dataset)\n",
        "#print(dataset)"
      ],
      "metadata": {
        "id": "8BDyfxysr2cy"
      },
      "execution_count": null,
      "outputs": []
    },
    {
      "cell_type": "code",
      "source": [
        "#ImportError: Using the `Trainer` with `PyTorch` requires `accelerate>=0.20.1`: Please run `pip install transformers[torch]` or `pip install accelerate -U`\n",
        "!pip install accelerate -U\n",
        "!pip install transformers[torch]\n",
        "! pip install -U accelerate\n",
        "! pip install -U transformers"
      ],
      "metadata": {
        "id": "xccOFwu0ZCPr"
      },
      "execution_count": null,
      "outputs": []
    },
    {
      "cell_type": "code",
      "source": [
        "training_args = TrainingArguments(\n",
        "    output_dir=\"./results\",\n",
        "    num_train_epochs=3,\n",
        "    per_device_train_batch_size=4,\n",
        "    per_device_eval_batch_size=4,\n",
        "    gradient_accumulation_steps=16,\n",
        "    max_grad_norm=0.3,\n",
        "    learning_rate=6e-5,\n",
        "    fp16=False,\n",
        "    save_steps=500,\n",
        "    save_total_limit=2,\n",
        ")"
      ],
      "metadata": {
        "id": "AbGMgn1-YIM-"
      },
      "execution_count": 16,
      "outputs": []
    },
    {
      "cell_type": "code",
      "source": [
        "#Initialize_the_Trainer\n",
        "trainer = Trainer(\n",
        "    model=model,\n",
        "    args=training_args,\n",
        "    train_dataset=tokenized_dataset[\"train\"],\n",
        "    #eval_dataset=tokenized_dataset[\"validation\"], #https://discuss.huggingface.co/t/keyerror-validation-when-trying-to-use-validation-dataset/9524/2\n",
        ")\n",
        "trainer.train()"
      ],
      "metadata": {
        "id": "xx_nNAI3bZhh",
        "colab": {
          "base_uri": "https://localhost:8080/"
        },
        "outputId": "234d4c0b-9b30-4d77-f34d-cdfd8d312d9b"
      },
      "execution_count": null,
      "outputs": [
        {
          "output_type": "stream",
          "name": "stderr",
          "text": [
            "/usr/local/lib/python3.10/dist-packages/transformers/optimization.py:411: FutureWarning: This implementation of AdamW is deprecated and will be removed in a future version. Use the PyTorch implementation torch.optim.AdamW instead, or set `no_deprecation_warning=True` to disable this warning\n",
            "  warnings.warn(\n"
          ]
        }
      ]
    }
  ]
}